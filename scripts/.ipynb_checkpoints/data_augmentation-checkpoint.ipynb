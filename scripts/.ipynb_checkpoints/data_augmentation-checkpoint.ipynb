{
 "cells": [
  {
   "cell_type": "code",
   "execution_count": 3,
   "metadata": {},
   "outputs": [],
   "source": [
    "import cv2\n",
    "import xml.etree.ElementTree as ET\n",
    "import numpy as np"
   ]
  },
  {
   "cell_type": "code",
   "execution_count": 4,
   "metadata": {},
   "outputs": [
    {
     "name": "stdout",
     "output_type": "stream",
     "text": [
      "(480, 640, 3)\n",
      "width = 640 height = 480\n",
      "[[126, 379, 235, 479]]\n",
      "[[126, 379, 235, 479], [121, 163, 251, 295]]\n"
     ]
    }
   ],
   "source": [
    "imgsrc=cv2.imread('/home/lishuang/Disk/pytorch/test/img/image_2017_04_20_01_29.jpg')\n",
    "\n",
    "tree = ET.parse('/home/lishuang/Disk/pytorch/test/xml/image_2017_04_20_01_29.xml')\n",
    "root = tree.getroot()\n",
    "\n",
    "print(imgsrc.shape)  #H W C\n",
    "size=root.find('size')\n",
    "width=int(size.find('width').text)\n",
    "height=int(size.find('height').text)\n",
    "objs=root.findall('object')\n",
    "print(\"width =\",width,\"height =\",height)\n",
    "box=[]\n",
    "for obj in objs:\n",
    "    name=obj.find('name').text  #type\n",
    "    bndbox=obj.find('bndbox')\n",
    "    xmin=int(bndbox.find('xmin').text)\n",
    "    ymin=int(bndbox.find('ymin').text)\n",
    "    xmax=int(bndbox.find('xmax').text)\n",
    "    ymax=int(bndbox.find('ymax').text)\n",
    "    box.append([xmin,ymin,xmax,ymax])\n",
    "    print(box)\n",
    "\n",
    "box=np.array(box)\n",
    "\n",
    "#show origin image\n",
    "# for box_id in range(len(box)):\n",
    "#     cv2.rectangle(imgsrc,(int(box[box_id][0]),int(box[box_id][1])),(int(box[box_id][2]),int(box[box_id][3])),(0,255,0),2)\n",
    "# cv2.imwrite('imgsrc.jpg',imgsrc)    \n"
   ]
  },
  {
   "cell_type": "code",
   "execution_count": null,
   "metadata": {},
   "outputs": [],
   "source": [
    "class data_augmentation:\n",
    "\n",
    "    def __init__(self,img,box=[[0,0,0,0]],gamma=1.0,log=1.0):\n",
    "        self.img=img.copy()\n",
    "        self.box=box.copy()\n",
    "        gamma_table = [np.power(x, gamma)  for x in range(256)]\n",
    "        gamma_table = np.array(gamma_table)\n",
    "        self.gamma=gamma\n",
    "        self.gamma_table=gamma_table\n",
    "        log_table = [np.log(1 + x) * log for x in range(256)]\n",
    "        log_table = np.array(log_table)\n",
    "        self.log=log\n",
    "        self.log_table = log_table\n",
    "\n",
    "    def resize(self,minscale=0.6,maxscale=1.4,step=0.1):\n",
    "        height, width = self.img.shape[0], self.img.shape[1]\n",
    "        scale=np.random.choice(np.arange(minscale, maxscale, step))\n",
    "        resize_width=width*scale\n",
    "        resize_height=height*scale\n",
    "        resize_box=self.box*scale\n",
    "        resize_img=cv2.resize(self.img,(int(resize_width),int(resize_height)))\n",
    "        \n",
    "        return resize_img,resize_box.astype('int64')\n",
    "\n",
    "    def crop(self,jitter=0.3,percent=0.5):#percent=dstbox/srcbox\n",
    "        height, width = self.img.shape[0], self.img.shape[1]\n",
    "        dw=width*jitter\n",
    "        dh=height*jitter\n",
    "        pleft=np.random.randint(-dw,dw+1)\n",
    "        pright=np.random.randint(-dw,dw+1)\n",
    "        ptop=np.random.randint(-dh,dh+1)\n",
    "        pbot=np.random.randint(-dh,dh+1)\n",
    "        swidth =  width - pleft - pright\n",
    "        sheight = height - ptop - pbot\n",
    "        \n",
    "        imgdst=np.zeros((sheight,swidth,self.img.shape[2]))\n",
    "        \n",
    "        crop_img=self.img[max(0,ptop):min(height,height-pbot),max(0,pleft):min(width,width-pright),:]\n",
    "        crop_img_h=crop_img.shape[0]\n",
    "        crop_img_W=crop_img.shape[1]\n",
    "        xmin=abs(min(0,pleft))\n",
    "        ymin=abs(min(0,ptop))\n",
    "        imgdst[ymin:ymin+crop_img_h,xmin:xmin+crop_img_W,:]=crop_img\n",
    "        #self.img=imgdst.copy()\n",
    "        \n",
    "        crop_img_xmin=max(0,pleft)\n",
    "        crop_img_ymin=max(0,ptop)\n",
    "        crop_img_xmax=min(width,width-pright)\n",
    "        crop_img_ymax=min(height,height-pbot)\n",
    "        \n",
    "        xchange=xmin-crop_img_xmin\n",
    "        ychange=ymin-crop_img_ymin\n",
    "        boxnew=[]\n",
    "        for box_id in range(len(self.box)):\n",
    "            boxtmp=self.box[box_id]\n",
    "            xmintmp=boxtmp[0]\n",
    "            ymintmp=boxtmp[1]\n",
    "            xmaxtmp=boxtmp[2]\n",
    "            ymaxtmp=boxtmp[3]\n",
    "            xminnew=max(xmintmp,crop_img_xmin)\n",
    "            yminnew=max(ymintmp,crop_img_ymin)\n",
    "            xmaxnew=min(xmaxtmp,crop_img_xmax)\n",
    "            ymaxnew=min(ymaxtmp,crop_img_ymax)\n",
    "            if xmaxnew>xminnew and ymaxnew>yminnew:\n",
    "                squarenew=(xmaxnew-xminnew)*(ymaxnew-yminnew)\n",
    "                squaretmp=(xmaxtmp-xmintmp)*(ymaxtmp-ymintmp)\n",
    "                if squarenew > percent*squaretmp:\n",
    "                    #change old coordinate to new coordinate\n",
    "                    boxnew.append([xminnew+xchange,yminnew+ychange,xmaxnew+xchange,ymaxnew+ychange])\n",
    "        \n",
    "        boxnew=np.array(boxnew)\n",
    "                \n",
    "            \n",
    "        \n",
    "        return imgdst,boxnew\n",
    "        \n",
    "    def lr_filp(self):\n",
    "        height, width = self.img.shape[0], self.img.shape[1]\n",
    "        lr_img=np.fliplr(self.img)\n",
    "        lr_box=[]\n",
    "        for box_id in range(len(self.box)):\n",
    "            xmax = width-1-self.box[box_id][0]\n",
    "            xmin = width-1-self.box[box_id][2]\n",
    "            ymin=self.box[box_id][1]\n",
    "            ymax=self.box[box_id][3]\n",
    "            lr_box.append([xmin,ymin,xmax,ymax])\n",
    "            #lr_box[box_id]=[xmin,ymin,xmax,ymax]\n",
    "            \n",
    "        lr_box=np.array(lr_box)\n",
    "        return lr_img,lr_box\n",
    "        \n",
    "    def up_filp(self):\n",
    "        height, width = self.img.shape[0], self.img.shape[1]\n",
    "        up_img = np.flipud(self.img)\n",
    "        up_box=[]\n",
    "        for box_id in range(len(self.box)):\n",
    "            \n",
    "#             boxtmp=self.box[box_id]\n",
    "#             ymax=height-1-boxtmp[1]\n",
    "#             ymin=height-1-boxtmp[3]\n",
    "#             boxtmp[1]=ymin\n",
    "#             boxtmp[3]=ymax\n",
    "#             up_box.append(boxtmp)\n",
    "            \n",
    "            ymax=height-1-self.box[box_id][1]\n",
    "            ymin=height-1-self.box[box_id][3]\n",
    "            xmin=self.box[box_id][0]\n",
    "            xmax=self.box[box_id][2]\n",
    "            up_box.append([xmin,ymin,xmax,ymax])\n",
    "            \n",
    "        up_box=np.array(up_box)\n",
    "        return up_img,up_box\n",
    "    \n",
    "    def hsv(self,hue=0.1,saturation=1.5,exposure=1.5):\n",
    "        dhue=np.random.uniform(-hue,hue)\n",
    "        if np.random.rand() >0.5:\n",
    "            dsat=np.random.uniform(1,saturation)\n",
    "        else:\n",
    "            dsat=1.0/np.random.uniform(1,saturation)\n",
    "        \n",
    "        if np.random.rand() >0.5:\n",
    "            dexp=np.random.uniform(1,exposure)\n",
    "        else:\n",
    "            dexp=1.0/np.random.uniform(1,exposure)\n",
    "            \n",
    "        img_hsv=cv2.cvtColor(self.img,cv2.COLOR_BGR2HSV)\n",
    "        (H, S, V) = cv2.split(img_hsv)\n",
    "        H=H.astype(np.float32)\n",
    "        S=S.astype(np.float32)\n",
    "        V=V.astype(np.float32)\n",
    "        \n",
    "        S*=dsat\n",
    "        V*=dexp\n",
    "        H+=179*dhue\n",
    "        \n",
    "        H=H.astype(np.uint8)\n",
    "        S=S.astype(np.uint8)\n",
    "        V=V.astype(np.uint8)\n",
    "        \n",
    "        \n",
    "        img_hsv=cv2.merge((H, S, V))\n",
    "        img_hsv=cv2.cvtColor(img_hsv,cv2.COLOR_HSV2BGR)\n",
    "        \n",
    "        return img_hsv,self.box\n",
    "    \n",
    "    def mix_up(self,imgsrc,boxsrc,alpha=0.5,beta=0.5,gamma=0):#base come from yolo\n",
    "        for i in range(len(self.img.shape)):\n",
    "            assert(self.img.shape[i]==imgsrc.shape[i])\n",
    "        imgdst=cv2.addWeighted(self.img,alpha,imgsrc,beta,gamma)\n",
    "        boxnew=np.concatenate((self.box,boxsrc))\n",
    "        return imgdst,boxnew\n",
    "    \n",
    "    def mix_up_unlimitedsize(self, imgsrc, boxsrc=[[0,0,0,0]], alpha=0.5, gamma=0):  # base come from yolo\n",
    "        height = max(self.img.shape[0], imgsrc.shape[0])\n",
    "        width = max(self.img.shape[1], imgsrc.shape[1])\n",
    "        mix_img=np.zeros((height,width,self.img.shape[2]),dtype='float32')\n",
    "        mix_img[:self.img.shape[0], :self.img.shape[1], :] = self.img.astype('float32') * alpha\n",
    "        mix_img[:imgsrc.shape[0], :imgsrc.shape[1], :] += imgsrc.astype('float32') * (1. - alpha)\n",
    "        mix_img = mix_img.astype('uint8')\n",
    "        boxnew = np.concatenate((self.box, boxsrc))\n",
    "        return mix_img, boxnew\n",
    "    \n",
    "    def blur(self,kw=7,kh=7,sigmaX=0,sigmaY=0):\n",
    "        #opencv \n",
    "        if sigmaY==0:\n",
    "            sigmaY=sigmaX\n",
    "        dst=cv2.GaussianBlur(self.img,(kw,kh),sigmaX,sigmaY)\n",
    "#         dst=cv2.blur(self.img,(5,5))\n",
    "#         dst=cv2.bilateralFilter(self.img,9,75,75)\n",
    "#         dst=cv2.medianBlur(img,5)\n",
    "        dst = dst.astype(np.uint8)\n",
    "        return dst,self.box\n",
    "    \n",
    "    def frosted_glass(self,mm=3):\n",
    "        height=self.img.shape[0]\n",
    "        width=self.img.shape[1]\n",
    "        #dst=np.zeros([height,width,3],np.uint8)\n",
    "        dst=self.img.copy()\n",
    "        for m in range(height-mm):\n",
    "            for n in range(width-mm):\n",
    "                index=int(np.random.random()*mm)\n",
    "                (b,g,r)=self.img[m+index,n+index]\n",
    "                dst[m,n]=(b,g,r)\n",
    "        dst = dst.astype(np.uint8)\n",
    "        return dst,self.box\n",
    "    #from skimage.util import random_noise also apply noise function\n",
    "    def guass_noisy(self,mean=0,var=0.1):\n",
    "        image=self.img\n",
    "        row,col,ch= image.shape\n",
    "        sigma = var**0.5\n",
    "        gauss = np.random.normal(mean,sigma,(row,col,ch))\n",
    "        gauss = gauss.reshape(row,col,ch)\n",
    "        noisy = image + image*gauss\n",
    "        noisy = noisy.astype(np.uint8)\n",
    "        return noisy,self.box\n",
    "    \n",
    "    def sp_noisy(self,s_vs_p=0.5,amount=0.004):\n",
    "        image=self.img\n",
    "        s_vs_p = 0.5\n",
    "        amount = 0.004\n",
    "        out = np.copy(image)\n",
    "        # Salt mode\n",
    "        num_salt = np.ceil(amount * image.size * s_vs_p)\n",
    "        coords = [np.random.randint(0, i - 1, int(num_salt))\n",
    "              for i in image.shape]\n",
    "        coords=tuple(coords)\n",
    "        out[coords] = 255\n",
    "\n",
    "        # Pepper mode\n",
    "        num_pepper = np.ceil(amount* image.size * (1. - s_vs_p))\n",
    "        coords = [np.random.randint(0, i - 1, int(num_pepper))\n",
    "              for i in image.shape]\n",
    "        coords=tuple(coords)\n",
    "        out[coords] = 0\n",
    "        out = out.astype(np.uint8)\n",
    "        return out,self.box\n",
    "    \n",
    "    def gamma_trans(self,gamma=1.0):\n",
    "        gamma_table=self.gamma_table\n",
    "        if gamma!=self.gamma:\n",
    "            gamma_table = [np.power(x, gamma)  for x in range(256)]\n",
    "            gamma_table = np.array(gamma_table)\n",
    "        src = cv2.LUT(self.img, gamma_table)\n",
    "        cv2.normalize(src, src, 0, 255, cv2.NORM_MINMAX)\n",
    "        src = src.astype(np.uint8)\n",
    "        return src,self.box\n",
    "    \n",
    "    def log_trans(self,log=1.0):\n",
    "        log_table=self.log_table\n",
    "        if log!=self.log:\n",
    "            log_table = [np.log(1 + x) * log for x in range(256)]\n",
    "            log_table = np.array(log_table)\n",
    "        src = cv2.LUT(self.img,log_table)\n",
    "        cv2.normalize(src, src, 0, 255, cv2.NORM_MINMAX)\n",
    "        src = src.astype(np.uint8)\n",
    "        return src,self.box\n",
    "    \n",
    "    def rotate(self,angle,scale=1.):\n",
    "        w = self.img.shape[1]\n",
    "        h = self.img.shape[0]\n",
    "        # convet angle into rad\n",
    "        rangle = np.deg2rad(angle)  # angle in radians\n",
    "        # calculate new image width and height\n",
    "        nw = (abs(np.sin(rangle)*h) + abs(np.cos(rangle)*w))*scale\n",
    "        nh = (abs(np.cos(rangle)*h) + abs(np.sin(rangle)*w))*scale\n",
    "        # ask OpenCV for the rotation matrix\n",
    "        rot_mat = cv2.getRotationMatrix2D((nw*0.5, nh*0.5), angle, scale)\n",
    "        # calculate the move from the old center to the new center combined\n",
    "        # with the rotation\n",
    "       \n",
    "        rot_move = np.dot(rot_mat, np.array([(nw-w)*0.5, (nh-h)*0.5, 0]))\n",
    "     \n",
    "        # the move only affects the translation, so update the translation\n",
    "        # part of the transform\n",
    "        \n",
    "        rot_mat[0, 2] += rot_move[0]\n",
    "        rot_mat[1, 2] += rot_move[1]\n",
    "        # map\n",
    "        rotate_box=self.box.copy()\n",
    "        for box_id in range(len(self.box)):\n",
    "            xmin=self.box[box_id][0]\n",
    "            xmax=self.box[box_id][2]\n",
    "            ymin=self.box[box_id][1]\n",
    "            ymax=self.box[box_id][3]\n",
    "#             point1 = np.dot(rot_mat, np.array([(xmin+xmax)/2, ymin, 1]))\n",
    "#             point2 = np.dot(rot_mat, np.array([xmax, (ymin+ymax)/2, 1]))\n",
    "#             point3 = np.dot(rot_mat, np.array([(xmin+xmax)/2, ymax, 1]))\n",
    "#             point4 = np.dot(rot_mat, np.array([xmin, (ymin+ymax)/2, 1]))\n",
    "            point1 = np.dot(rot_mat, np.array([xmin, ymin, 1]))\n",
    "            point2 = np.dot(rot_mat, np.array([xmax, ymin, 1]))\n",
    "            point3 = np.dot(rot_mat, np.array([xmax, ymax, 1]))\n",
    "            point4 = np.dot(rot_mat, np.array([xmin, ymax, 1]))\n",
    "            # concat np.array\n",
    "            concat = np.vstack((point1, point2, point3, point4))\n",
    "            # change type\n",
    "            concat = concat.astype(np.int32)\n",
    "            #print(concat)\n",
    "            rx, ry, rw, rh = cv2.boundingRect(concat)\n",
    "            rotate_box[box_id][0]=rx\n",
    "            rotate_box[box_id][1]=ry\n",
    "            rotate_box[box_id][2]=rx+rw\n",
    "            rotate_box[box_id][3]=ry+rh\n",
    "            \n",
    "        \n",
    "        return cv2.warpAffine(\n",
    "            self.img, rot_mat, (int(np.ceil(nw)), int(np.ceil(nh))),\n",
    "            flags=cv2.INTER_LANCZOS4),rotate_box"
   ]
  },
  {
   "cell_type": "code",
   "execution_count": 6,
   "metadata": {},
   "outputs": [],
   "source": [
    "data_aug=data_augmentation(imgsrc,box,gamma=2.0)"
   ]
  },
  {
   "cell_type": "code",
   "execution_count": 26,
   "metadata": {},
   "outputs": [
    {
     "data": {
      "text/plain": [
       "True"
      ]
     },
     "execution_count": 26,
     "metadata": {},
     "output_type": "execute_result"
    }
   ],
   "source": [
    "dstimg,dstbox=data_aug.rotate(80)\n",
    "for box_id in range(len(dstbox)):\n",
    "    dstimg=cv2.rectangle(dstimg,(int(dstbox[box_id][0]),int(dstbox[box_id][1])),(int(dstbox[box_id][2]),int(dstbox[box_id][3])),(0,255,0),2)\n",
    "cv2.imwrite('img_rotate.jpg',dstimg)   "
   ]
  },
  {
   "cell_type": "code",
   "execution_count": 8,
   "metadata": {},
   "outputs": [
    {
     "data": {
      "text/plain": [
       "True"
      ]
     },
     "execution_count": 8,
     "metadata": {},
     "output_type": "execute_result"
    }
   ],
   "source": [
    "dstimg,dstbox=data_aug.resize()\n",
    "for box_id in range(len(dstbox)):\n",
    "    dstimg=cv2.rectangle(dstimg,(int(dstbox[box_id][0]),int(dstbox[box_id][1])),(int(dstbox[box_id][2]),int(dstbox[box_id][3])),(0,255,0),2)\n",
    "cv2.imwrite('img_resize.jpg',dstimg)    "
   ]
  },
  {
   "cell_type": "code",
   "execution_count": 9,
   "metadata": {},
   "outputs": [
    {
     "data": {
      "text/plain": [
       "True"
      ]
     },
     "execution_count": 9,
     "metadata": {},
     "output_type": "execute_result"
    }
   ],
   "source": [
    "dstimg,dstbox=data_aug.crop()\n",
    "for box_id in range(len(dstbox)):\n",
    "    dstimg=cv2.rectangle(dstimg,(int(dstbox[box_id][0]),int(dstbox[box_id][1])),(int(dstbox[box_id][2]),int(dstbox[box_id][3])),(0,255,0),2)\n",
    "cv2.imwrite('img_crop.jpg',dstimg)   "
   ]
  },
  {
   "cell_type": "code",
   "execution_count": 10,
   "metadata": {},
   "outputs": [
    {
     "data": {
      "text/plain": [
       "True"
      ]
     },
     "execution_count": 10,
     "metadata": {},
     "output_type": "execute_result"
    }
   ],
   "source": [
    "dstimg,dstbox=data_aug.lr_filp()\n",
    "for box_id in range(len(dstbox)):\n",
    "    dstimg=cv2.rectangle(dstimg,(int(dstbox[box_id][0]),int(dstbox[box_id][1])),(int(dstbox[box_id][2]),int(dstbox[box_id][3])),(0,255,0),2)\n",
    "cv2.imwrite('img_lr_filp.jpg',dstimg)  "
   ]
  },
  {
   "cell_type": "code",
   "execution_count": 11,
   "metadata": {},
   "outputs": [
    {
     "data": {
      "text/plain": [
       "True"
      ]
     },
     "execution_count": 11,
     "metadata": {},
     "output_type": "execute_result"
    }
   ],
   "source": [
    "dstimg,dstbox=data_aug.up_filp()\n",
    "for box_id in range(len(dstbox)):\n",
    "    dstimg=cv2.rectangle(dstimg,(int(dstbox[box_id][0]),int(dstbox[box_id][1])),(int(dstbox[box_id][2]),int(dstbox[box_id][3])),(0,255,0),2)\n",
    "cv2.imwrite('img_up_filp.jpg',dstimg)  \n"
   ]
  },
  {
   "cell_type": "code",
   "execution_count": 12,
   "metadata": {},
   "outputs": [
    {
     "data": {
      "text/plain": [
       "True"
      ]
     },
     "execution_count": 12,
     "metadata": {},
     "output_type": "execute_result"
    }
   ],
   "source": [
    "dstimg,dstbox=data_aug.hsv() \n",
    "for box_id in range(len(dstbox)):\n",
    "    dstimg=cv2.rectangle(dstimg,(int(dstbox[box_id][0]),int(dstbox[box_id][1])),(int(dstbox[box_id][2]),int(dstbox[box_id][3])),(0,255,0),2)\n",
    "cv2.imwrite('img_hsv.jpg',dstimg)  \n"
   ]
  },
  {
   "cell_type": "code",
   "execution_count": 13,
   "metadata": {},
   "outputs": [
    {
     "data": {
      "text/plain": [
       "True"
      ]
     },
     "execution_count": 13,
     "metadata": {},
     "output_type": "execute_result"
    }
   ],
   "source": [
    "dstimg,dstbox=data_aug.blur()\n",
    "for box_id in range(len(dstbox)):\n",
    "    dstimg=cv2.rectangle(dstimg,(int(dstbox[box_id][0]),int(dstbox[box_id][1])),(int(dstbox[box_id][2]),int(dstbox[box_id][3])),(0,255,0),2)\n",
    "cv2.imwrite('img_blur.jpg',dstimg)  \n"
   ]
  },
  {
   "cell_type": "code",
   "execution_count": 14,
   "metadata": {},
   "outputs": [
    {
     "data": {
      "text/plain": [
       "True"
      ]
     },
     "execution_count": 14,
     "metadata": {},
     "output_type": "execute_result"
    }
   ],
   "source": [
    "dstimg,dstbox=data_aug.frosted_glass()\n",
    "for box_id in range(len(dstbox)):\n",
    "    dstimg=cv2.rectangle(dstimg,(int(dstbox[box_id][0]),int(dstbox[box_id][1])),(int(dstbox[box_id][2]),int(dstbox[box_id][3])),(0,255,0),2)\n",
    "cv2.imwrite('img_frosted_glass.jpg',dstimg)  "
   ]
  },
  {
   "cell_type": "code",
   "execution_count": 15,
   "metadata": {},
   "outputs": [
    {
     "data": {
      "text/plain": [
       "True"
      ]
     },
     "execution_count": 15,
     "metadata": {},
     "output_type": "execute_result"
    }
   ],
   "source": [
    "dstimg,dstbox=data_aug.gamma_trans()\n",
    "for box_id in range(len(dstbox)):\n",
    "    dstimg=cv2.rectangle(dstimg,(int(dstbox[box_id][0]),int(dstbox[box_id][1])),(int(dstbox[box_id][2]),int(dstbox[box_id][3])),(0,255,0),2)\n",
    "cv2.imwrite('img_gamma_trans.jpg',dstimg)  "
   ]
  },
  {
   "cell_type": "code",
   "execution_count": 16,
   "metadata": {},
   "outputs": [
    {
     "data": {
      "text/plain": [
       "True"
      ]
     },
     "execution_count": 16,
     "metadata": {},
     "output_type": "execute_result"
    }
   ],
   "source": [
    "dstimg,dstbox=data_aug.log_trans()\n",
    "for box_id in range(len(dstbox)):\n",
    "    dstimg=cv2.rectangle(dstimg,(int(dstbox[box_id][0]),int(dstbox[box_id][1])),(int(dstbox[box_id][2]),int(dstbox[box_id][3])),(0,255,0),2)\n",
    "cv2.imwrite('img_log_trans.jpg',dstimg)  "
   ]
  },
  {
   "cell_type": "code",
   "execution_count": 17,
   "metadata": {},
   "outputs": [
    {
     "data": {
      "text/plain": [
       "True"
      ]
     },
     "execution_count": 17,
     "metadata": {},
     "output_type": "execute_result"
    }
   ],
   "source": [
    "dstimg,dstbox=data_aug.guass_noisy()\n",
    "for box_id in range(len(dstbox)):\n",
    "    dstimg=cv2.rectangle(dstimg,(int(dstbox[box_id][0]),int(dstbox[box_id][1])),(int(dstbox[box_id][2]),int(dstbox[box_id][3])),(0,255,0),2)\n",
    "cv2.imwrite('img_guass_noisy.jpg',dstimg)  "
   ]
  },
  {
   "cell_type": "code",
   "execution_count": 18,
   "metadata": {},
   "outputs": [
    {
     "data": {
      "text/plain": [
       "True"
      ]
     },
     "execution_count": 18,
     "metadata": {},
     "output_type": "execute_result"
    }
   ],
   "source": [
    "dstimg,dstbox=data_aug.sp_noisy()\n",
    "for box_id in range(len(dstbox)):\n",
    "    dstimg=cv2.rectangle(dstimg,(int(dstbox[box_id][0]),int(dstbox[box_id][1])),(int(dstbox[box_id][2]),int(dstbox[box_id][3])),(0,255,0),2)\n",
    "cv2.imwrite('img_sp_noisy.jpg',dstimg)  "
   ]
  },
  {
   "cell_type": "code",
   "execution_count": 19,
   "metadata": {},
   "outputs": [
    {
     "name": "stdout",
     "output_type": "stream",
     "text": [
      "(480, 640, 3)\n"
     ]
    },
    {
     "data": {
      "text/plain": [
       "True"
      ]
     },
     "execution_count": 19,
     "metadata": {},
     "output_type": "execute_result"
    }
   ],
   "source": [
    "#mix_up\n",
    "imgadd=cv2.imread('/home/lishuang/Disk/pytorch/test/img/image_2017_04_20_01_37.jpg')\n",
    "\n",
    "treeadd = ET.parse('/home/lishuang/Disk/pytorch/test/xml/image_2017_04_20_01_37.xml')\n",
    "rootadd = treeadd.getroot()\n",
    "\n",
    "print(imgadd.shape)  #H W C\n",
    "objsadd=rootadd.findall('object')\n",
    "boxadd=[]\n",
    "for obj in objsadd:\n",
    "    name=obj.find('name').text  #type\n",
    "    bndbox=obj.find('bndbox')\n",
    "    xmin=int(bndbox.find('xmin').text)\n",
    "    ymin=int(bndbox.find('ymin').text)\n",
    "    xmax=int(bndbox.find('xmax').text)\n",
    "    ymax=int(bndbox.find('ymax').text)\n",
    "    boxadd.append([xmin,ymin,xmax,ymax])\n",
    "    \n",
    "\n",
    "boxadd=np.array(boxadd)\n",
    "\n",
    "imgout,boxout=data_aug.mix_up(imgadd,boxadd)\n",
    "\n",
    "for box_id in range(len(boxout)):\n",
    "    imgout=cv2.rectangle(imgout,(int(boxout[box_id][0]),int(boxout[box_id][1])),(int(boxout[box_id][2]),int(boxout[box_id][3])),(0,255,0),2)\n",
    "cv2.imwrite('img_mixup.jpg',imgout)    \n",
    " "
   ]
  },
  {
   "cell_type": "code",
   "execution_count": 20,
   "metadata": {},
   "outputs": [
    {
     "name": "stdout",
     "output_type": "stream",
     "text": [
      "Help on built-in function minAreaRect:\n",
      "\n",
      "minAreaRect(...)\n",
      "    minAreaRect(points) -> retval\n",
      "    .   @brief Finds a rotated rectangle of the minimum area enclosing the input 2D point set.\n",
      "    .   \n",
      "    .   The function calculates and returns the minimum-area bounding rectangle (possibly rotated) for a\n",
      "    .   specified point set. Developer should keep in mind that the returned RotatedRect can contain negative\n",
      "    .   indices when data is close to the containing Mat element boundary.\n",
      "    .   \n",
      "    .   @param points Input vector of 2D points, stored in std::vector\\<\\> or Mat\n",
      "\n"
     ]
    }
   ],
   "source": []
  },
  {
   "cell_type": "code",
   "execution_count": null,
   "metadata": {},
   "outputs": [],
   "source": []
  }
 ],
 "metadata": {
  "kernelspec": {
   "display_name": "Python 3",
   "language": "python",
   "name": "python3"
  },
  "language_info": {
   "codemirror_mode": {
    "name": "ipython",
    "version": 3
   },
   "file_extension": ".py",
   "mimetype": "text/x-python",
   "name": "python",
   "nbconvert_exporter": "python",
   "pygments_lexer": "ipython3",
   "version": "3.7.3"
  }
 },
 "nbformat": 4,
 "nbformat_minor": 2
}
